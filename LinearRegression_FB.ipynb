{
  "nbformat": 4,
  "nbformat_minor": 0,
  "metadata": {
    "colab": {
      "provenance": [],
      "authorship_tag": "ABX9TyOPUGD0l1lfX4HomgVsE2uQ",
      "include_colab_link": true
    },
    "kernelspec": {
      "name": "python3",
      "display_name": "Python 3"
    },
    "language_info": {
      "name": "python"
    }
  },
  "cells": [
    {
      "cell_type": "markdown",
      "metadata": {
        "id": "view-in-github",
        "colab_type": "text"
      },
      "source": [
        "<a href=\"https://colab.research.google.com/github/tchild1/Football-ML/blob/main/LinearRegression_FB.ipynb\" target=\"_parent\"><img src=\"https://colab.research.google.com/assets/colab-badge.svg\" alt=\"Open In Colab\"/></a>"
      ]
    },
    {
      "cell_type": "markdown",
      "source": [
        "# Linear Regression"
      ],
      "metadata": {
        "id": "FbOGi4gKY_aS"
      }
    },
    {
      "cell_type": "markdown",
      "source": [
        "IMPORTS"
      ],
      "metadata": {
        "id": "HFblFSYPZOpM"
      }
    },
    {
      "cell_type": "code",
      "source": [
        "import pandas as pd\n",
        "import numpy as np\n",
        "import matplotlib.pyplot as plt\n",
        "\n",
        "from sklearn.model_selection import train_test_split\n",
        "from sklearn.linear_model import LinearRegression\n",
        "from sklearn.metrics import mean_absolute_error, mean_squared_error\n",
        "from sklearn.impute import SimpleImputer"
      ],
      "metadata": {
        "id": "DUPy1uGhZTAG"
      },
      "execution_count": null,
      "outputs": []
    },
    {
      "cell_type": "code",
      "source": [
        "# Getting just q1 data\n",
        "games_df = pd.read_csv('cleanedCompiledData (1).csv')\n",
        "games_df.head()\n",
        "X_q1 = games_df.filter(regex='q1$')\n",
        "y = games_df['points']\n",
        "results = {}"
      ],
      "metadata": {
        "id": "he4A7ClCY4ag"
      },
      "execution_count": null,
      "outputs": []
    },
    {
      "cell_type": "code",
      "source": [
        "def fit_and_predict(X_train, y_train, X_test, y_test, linReg):\n",
        "  linReg.fit(X_train, y_train)\n",
        "  train_score = linReg.score(X_train, y_train)\n",
        "  test_score = linReg.score(X_test, y_test)\n",
        "  train_mae = mean_absolute_error(y_train, linReg.predict(X_train))\n",
        "  test_mae = mean_absolute_error(y_test, linReg.predict(X_test))\n",
        "  print(f\"Train Score: {train_score}\")\n",
        "  print(f\"Test Score: {test_score}\")\n",
        "  print(f\"Train MAE: {train_mae}\")\n",
        "  print(f\"Test MAE: {test_mae}\")\n",
        "  return (train_score, test_score, train_mae, test_mae)\n"
      ],
      "metadata": {
        "id": "3bpSpGjMb4eI"
      },
      "execution_count": null,
      "outputs": []
    },
    {
      "cell_type": "markdown",
      "source": [
        "### 1st Quarter"
      ],
      "metadata": {
        "id": "431ylkjsbY9q"
      }
    },
    {
      "cell_type": "code",
      "source": [
        "X_train, X_test, y_train, y_test = train_test_split(X_q1, y, test_size=0.2)\n",
        "reg = LinearRegression().fit(X_train, y_train)\n",
        "linReg = LinearRegression()\n",
        "results[\"Q1\"] = fit_and_predict(X_train, y_train, X_test, y_test, linReg)"
      ],
      "metadata": {
        "colab": {
          "base_uri": "https://localhost:8080/"
        },
        "id": "mADBqAWrbb_A",
        "outputId": "c110782f-b1a3-4c5d-e7af-475f5d0bcf44"
      },
      "execution_count": null,
      "outputs": [
        {
          "output_type": "stream",
          "name": "stdout",
          "text": [
            "Train Score: 0.18817184137077891\n",
            "Test Score: 0.18423062216550923\n",
            "Train MAE: 7.445492951343515\n",
            "Test MAE: 7.6696572267483205\n"
          ]
        }
      ]
    },
    {
      "cell_type": "markdown",
      "source": [
        "MAE is off by about 7.5 points using stats from just quarter 1. Train and test accuracies are pretty similar"
      ],
      "metadata": {
        "id": "ZN_p3rIgc9gL"
      }
    },
    {
      "cell_type": "markdown",
      "source": [
        "### First Half Stats"
      ],
      "metadata": {
        "id": "pcZZzkTAdORd"
      }
    },
    {
      "cell_type": "code",
      "source": [
        "q1_q2_columns = games_df.filter(regex='q[12]$')\n",
        "X_train, X_test, y_train, y_test = train_test_split(q1_q2_columns, y, test_size=0.2)\n",
        "linReg = LinearRegression()\n",
        "\n",
        "results[\"Q1Q2\"] = fit_and_predict(X_train, y_train, X_test, y_test, linReg)"
      ],
      "metadata": {
        "colab": {
          "base_uri": "https://localhost:8080/"
        },
        "id": "A7mwmOXxdM43",
        "outputId": "ba0d66ed-cc78-487f-b51a-d1ccb37192f1"
      },
      "execution_count": null,
      "outputs": [
        {
          "output_type": "stream",
          "name": "stdout",
          "text": [
            "Train Score: 0.3608553183860359\n",
            "Test Score: 0.34148277925350257\n",
            "Train MAE: 6.629364757354426\n",
            "Test MAE: 6.634130584550076\n"
          ]
        }
      ]
    },
    {
      "cell_type": "markdown",
      "source": [
        "First half stats are more accurate, with average MAE being around 6.7 points. Train and test scores are also pretty similar"
      ],
      "metadata": {
        "id": "EzLaVYXfdjM_"
      }
    },
    {
      "cell_type": "markdown",
      "source": [
        "### Third Quarter Stats\n"
      ],
      "metadata": {
        "id": "91sAyZMsp7rL"
      }
    },
    {
      "cell_type": "code",
      "source": [
        "q1_q2_q3_columns = games_df.filter(regex='q[123]$')\n",
        "X_train, X_test, y_train, y_test = train_test_split(q1_q2_q3_columns, y, test_size=0.2)\n",
        "linReg = LinearRegression()\n",
        "\n",
        "results[\"Q1Q2Q3\"] = fit_and_predict(X_train, y_train, X_test, y_test, linReg)"
      ],
      "metadata": {
        "colab": {
          "base_uri": "https://localhost:8080/"
        },
        "id": "3__MLq4JnjjQ",
        "outputId": "638d7eb6-30dc-4c9a-d045-a8a848aa3bf9"
      },
      "execution_count": null,
      "outputs": [
        {
          "output_type": "stream",
          "name": "stdout",
          "text": [
            "Train Score: 0.47547276300390584\n",
            "Test Score: 0.45640860929669413\n",
            "Train MAE: 5.965129825160897\n",
            "Test MAE: 6.1025752297078535\n"
          ]
        }
      ]
    },
    {
      "cell_type": "markdown",
      "source": [
        "### Full Game Stats\n"
      ],
      "metadata": {
        "id": "gInf_ZpUeA1m"
      }
    },
    {
      "cell_type": "code",
      "source": [
        "\n",
        "q1_q2_q3_q4_columns = games_df.filter(regex='q[1234]$')\n",
        "\n",
        "X_train, X_test, y_train, y_test = train_test_split(q1_q2_q3_q4_columns, y, test_size=0.2)\n",
        "linReg = LinearRegression()\n",
        "\n",
        "results[\"Q1Q2Q3Q4\"] = fit_and_predict(X_train, y_train, X_test, y_test, linReg)"
      ],
      "metadata": {
        "colab": {
          "base_uri": "https://localhost:8080/"
        },
        "id": "Xr7t8tyVeLMv",
        "outputId": "b08b60e3-136d-46d7-9c2d-d13570ef1f3d"
      },
      "execution_count": null,
      "outputs": [
        {
          "output_type": "stream",
          "name": "stdout",
          "text": [
            "   fourth_down_attempts_q1  fourth_down_attempts_q2  fourth_down_attempts_q3  \\\n",
            "0                        0                        1                        1   \n",
            "1                        1                        1                        1   \n",
            "2                        3                        2                        3   \n",
            "3                        0                        2                        2   \n",
            "4                        3                        2                        2   \n",
            "\n",
            "   fourth_down_attempts_q4     game_id  points  third_down_attempts_q1  \\\n",
            "0                        4  2021092612      30                       0   \n",
            "1                        2  2021092612      17                       4   \n",
            "2                        2  2021101008      22                       4   \n",
            "3                        3  2021101008      33                       2   \n",
            "4                        2  2021101706      38                       2   \n",
            "\n",
            "   third_down_attempts_q2  third_down_attempts_q3  third_down_attempts_q4  \\\n",
            "0                       6                       4                       5   \n",
            "1                       1                       1                       2   \n",
            "2                       5                       4                       3   \n",
            "3                       2                       2                       5   \n",
            "4                       3                       4                       3   \n",
            "\n",
            "   ...  yards_allowed_q3  yards_allowed_q4  yards_moved_q1  yards_moved_q2  \\\n",
            "0  ...                 7                74              73             153   \n",
            "1  ...               117               110             131             183   \n",
            "2  ...                18               124              92             103   \n",
            "3  ...                85                94             132             113   \n",
            "4  ...                58               105              51             201   \n",
            "\n",
            "   yards_moved_q3  yards_moved_q4  fourth_down_attempts_total  \\\n",
            "0             117             110                           6   \n",
            "1               7              74                           5   \n",
            "2              85              94                          10   \n",
            "3              18             124                           7   \n",
            "4              88              51                           9   \n",
            "\n",
            "   third_down_attempts_total  yards_allowed_total  yards_moved_total  \n",
            "0                         15                  395                453  \n",
            "1                          8                  453                395  \n",
            "2                         16                  387                374  \n",
            "3                         11                  374                387  \n",
            "4                         12                  297                391  \n",
            "\n",
            "[5 rows x 22 columns]\n",
            "Index(['fourth_down_attempts_q1', 'fourth_down_attempts_q2',\n",
            "       'fourth_down_attempts_q3', 'fourth_down_attempts_q4', 'game_id',\n",
            "       'points', 'third_down_attempts_q1', 'third_down_attempts_q2',\n",
            "       'third_down_attempts_q3', 'third_down_attempts_q4', 'yards_allowed_q1',\n",
            "       'yards_allowed_q2', 'yards_allowed_q3', 'yards_allowed_q4',\n",
            "       'yards_moved_q1', 'yards_moved_q2', 'yards_moved_q3', 'yards_moved_q4',\n",
            "       'fourth_down_attempts_total', 'third_down_attempts_total',\n",
            "       'yards_allowed_total', 'yards_moved_total'],\n",
            "      dtype='object')\n",
            "(3180, 72)\n",
            "Train Score: 0.5907499309183746\n",
            "Test Score: 0.596247993966363\n",
            "Train MAE: 5.218676994279791\n",
            "Test MAE: 5.232214264872028\n"
          ]
        }
      ]
    },
    {
      "cell_type": "code",
      "source": [
        "games_df_clean = games_df[games_df.columns.drop(games_df.filter(regex='^num').columns)]\n",
        "games_df_clean = games_df_clean.drop('game_id', axis=1)\n",
        "games_df_clean = games_df_clean.drop('points', axis=1)\n",
        "\n",
        "clean_q1_q2_columns = [col for col in games_df_clean.columns if 'q3' not in col and 'q4' not in col and 'total' not in col]\n",
        "clean_q1_q2_df = games_df_clean[clean_q1_q2_columns]\n",
        "\n",
        "clean_q1_columns = games_df_clean.filter(regex='q1$')\n",
        "\n",
        "\n",
        "games_yards = games_df.loc[:, games_df.columns.str.contains(r'yards', case=False)]\n",
        "\n",
        "missing_values = games_df.isna().sum()\n",
        "\n",
        "missing_columns = missing_values[missing_values > 0]\n",
        "\n",
        "imputer = SimpleImputer(strategy='mean')\n",
        "\n",
        "# # Fit the imputer to your training data and transform it.\n",
        "X_train, X_test, y_train, y_test = train_test_split(games_df_clean, y, test_size=0.2)\n",
        "\n",
        "X_train = imputer.fit_transform(X_train)\n",
        "X_test = imputer.fit_transform(X_test)\n",
        "\n",
        "# results[\"cleaned\"] = fit_and_predict(X_train, y_train, X_test, y_test, linReg)\n",
        "\n",
        "X_train, X_test, y_train, y_test = train_test_split(clean_q1_q2_df, y, test_size=0.2)\n",
        "\n",
        "X_train = imputer.fit_transform(X_train)\n",
        "X_test = imputer.fit_transform(X_test)\n",
        "print()\n",
        "print(\"Using just a few columns\")\n",
        "for col in clean_q1_q2_columns:\n",
        "  print(col)\n",
        "print()\n",
        "results[\"firsthalfClean\"] = fit_and_predict(X_train, y_train, X_test, y_test, linReg)"
      ],
      "metadata": {
        "colab": {
          "base_uri": "https://localhost:8080/"
        },
        "id": "fXqN3icxgzkb",
        "outputId": "dd091e02-93cf-4285-d251-b35ed8393223"
      },
      "execution_count": null,
      "outputs": [
        {
          "output_type": "stream",
          "name": "stdout",
          "text": [
            "\n",
            "Using just a few columns\n",
            "fourth_down_attempts_q1\n",
            "fourth_down_attempts_q2\n",
            "third_down_attempts_q1\n",
            "third_down_attempts_q2\n",
            "yards_allowed_q1\n",
            "yards_allowed_q2\n",
            "yards_moved_q1\n",
            "yards_moved_q2\n",
            "\n",
            "Train Score: 0.30287193937145707\n",
            "Test Score: 0.2693994659501061\n",
            "Train MAE: 6.986057723034091\n",
            "Test MAE: 6.801416903860528\n"
          ]
        }
      ]
    },
    {
      "cell_type": "markdown",
      "source": [
        "Using just a few of the featurse, 3rd down attempts, 4th down attempts, yards allowed, and yards moved, results are actually still pretty close to the other first half stats"
      ],
      "metadata": {
        "id": "HT8kYIX7mtOT"
      }
    },
    {
      "cell_type": "markdown",
      "source": [
        "## Plotting\n"
      ],
      "metadata": {
        "id": "yUXCKY45H5kk"
      }
    },
    {
      "cell_type": "code",
      "source": [
        "train_scores = [result[0] for result in results.values()]\n",
        "test_scores = [result[1] for result in results.values()]\n",
        "test_df = pd.DataFrame(test_scores, index=results.keys(), columns=[\"Test Score\"])\n",
        "mae_scores = [result[2] for result in results.values()]\n",
        "testMAE = [result[3] for result in results.values()]\n",
        "mae_df = pd.DataFrame(mae_scores, index=results.keys(), columns=[\"Test MAE\"])"
      ],
      "metadata": {
        "id": "fLY7icFVJS_a"
      },
      "execution_count": null,
      "outputs": []
    },
    {
      "cell_type": "code",
      "source": [
        "test_df.plot(kind='bar', color='red')\n",
        "plt.title(\"TestScores\")\n",
        "plt.ylabel(\"Test Score\")\n",
        "plt.xlabel(\"Quarter\")\n",
        "plt.xticks(np.arange(5), [\"Q1\", \"Q1Q2\", \"Q1Q2Q3\", \"Q1Q2Q3Q4\", \"FirstHalf\" ], rotation=0)\n",
        "plt.show()"
      ],
      "metadata": {
        "colab": {
          "base_uri": "https://localhost:8080/",
          "height": 472
        },
        "id": "J7_TSzBOH4-a",
        "outputId": "37ff1f66-9f96-4005-b4e1-91e13496e445"
      },
      "execution_count": null,
      "outputs": [
        {
          "output_type": "display_data",
          "data": {
            "text/plain": [
              "<Figure size 640x480 with 1 Axes>"
            ],
            "image/png": "[encoded data removed]"
          },
          "metadata": {}
        }
      ]
    },
    {
      "cell_type": "code",
      "source": [
        "mae_df.plot(kind='bar', color='blue')\n",
        "plt.title(\"MAE errors by quarter\")\n",
        "plt.ylabel(\"MAE\")\n",
        "plt.xlabel(\"Quarter\")\n",
        "plt.xticks(np.arange(4), [\"Q1\", \"Q2\", \"Q1Q2Q3\", \"Q1Q2Q3Q4\"], rotation=0)\n",
        "plt.show()"
      ],
      "metadata": {
        "colab": {
          "base_uri": "https://localhost:8080/",
          "height": 472
        },
        "id": "5XWiJdawKLuM",
        "outputId": "ea3e4841-c32f-4f6d-df57-d933a1a449bd"
      },
      "execution_count": null,
      "outputs": [
        {
          "output_type": "display_data",
          "data": {
            "text/plain": [
              "<Figure size 640x480 with 1 Axes>"
            ],
            "image/png": "[encoded data removed]"
          },
          "metadata": {}
        }
      ]
    }
  ]
}