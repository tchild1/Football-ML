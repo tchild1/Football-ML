{
 "cells": [
  {
   "cell_type": "code",
   "id": "initial_id",
   "metadata": {
    "collapsed": true,
    "ExecuteTime": {
     "end_time": "2024-11-19T04:18:13.004188Z",
     "start_time": "2024-11-19T04:18:07.675360Z"
    }
   },
   "source": "import pandas as pd",
   "outputs": [],
   "execution_count": 1
  },
  {
   "metadata": {
    "ExecuteTime": {
     "end_time": "2024-11-19T04:18:13.068225Z",
     "start_time": "2024-11-19T04:18:13.007207Z"
    }
   },
   "cell_type": "code",
   "source": [
    "# Load the data\n",
    "games_df = pd.read_csv('compiledData/cleanedCompiledData.csv')\n",
    "games_df.head()\n",
    "X_q1 = games_df.filter(regex='q1$')\n",
    "y = games_df['points']\n"
   ],
   "id": "f168376a38a3593e",
   "outputs": [],
   "execution_count": 2
  },
  {
   "metadata": {
    "ExecuteTime": {
     "end_time": "2024-11-19T04:18:22.261040Z",
     "start_time": "2024-11-19T04:18:13.070518Z"
    }
   },
   "cell_type": "code",
   "source": [
    "# more imports lol\n",
    "from sklearn.model_selection import train_test_split\n",
    "from sklearn.neural_network import MLPRegressor\n",
    "from sklearn.metrics import mean_absolute_error\n"
   ],
   "id": "254567d9a6bd0ddd",
   "outputs": [],
   "execution_count": 3
  },
  {
   "metadata": {},
   "cell_type": "markdown",
   "source": "# Trying MLP with Backpropagation on q1 stats only\n",
   "id": "fc8964bf5d5adf69"
  },
  {
   "metadata": {
    "ExecuteTime": {
     "end_time": "2024-11-19T04:18:31.655573Z",
     "start_time": "2024-11-19T04:18:22.263003Z"
    }
   },
   "cell_type": "code",
   "source": [
    "X_train, X_test, y_train, y_test = train_test_split(X_q1, y, test_size=0.2, random_state=42)\n",
    "regressor = MLPRegressor(hidden_layer_sizes=(100, 100), max_iter=5000, random_state=42)\n",
    "def fit_and_score():\n",
    "    regressor.fit(X_train, y_train)\n",
    "    print(f\"train score: {regressor.score(X_train, y_train)}\")\n",
    "    print(f\"train mae: {mean_absolute_error(y_train, regressor.predict(X_train))}\")\n",
    "    print(f\"test score: {regressor.score(X_test, y_test)}\")\n",
    "    print(f\"test mae: {mean_absolute_error(y_test, regressor.predict(X_test))}\")\n",
    "fit_and_score()"
   ],
   "id": "96a7f687d27c48e2",
   "outputs": [
    {
     "name": "stdout",
     "output_type": "stream",
     "text": [
      "train score: 0.3069176115326163\n",
      "train mae: 6.816735484985063\n",
      "test score: 0.049434879446500046\n",
      "test mae: 8.16347117597591\n"
     ]
    }
   ],
   "execution_count": 4
  },
  {
   "metadata": {},
   "cell_type": "markdown",
   "source": "### didn't think that would work superwell anyway lol",
   "id": "50f30c6896a4516a"
  },
  {
   "metadata": {},
   "cell_type": "markdown",
   "source": "### Trying MLP with Backpropagation on q1 and q2 stats",
   "id": "c94fe2e77486a8d9"
  },
  {
   "metadata": {
    "ExecuteTime": {
     "end_time": "2024-11-19T04:18:38.129429Z",
     "start_time": "2024-11-19T04:18:31.657538Z"
    }
   },
   "cell_type": "code",
   "source": [
    "# Select columns that end with 'q1' or 'q2'\n",
    "q1_q2_columns = games_df.filter(regex='q[12]$')\n",
    "X_train, X_test, y_train, y_test = train_test_split(q1_q2_columns, y, test_size=0.2, random_state=42)\n",
    "fit_and_score()\n"
   ],
   "id": "f16fb28e9a5ddf14",
   "outputs": [
    {
     "name": "stdout",
     "output_type": "stream",
     "text": [
      "train score: 0.5592765827093807\n",
      "train mae: 5.367232848532716\n",
      "test score: 0.20434348283446369\n",
      "test mae: 7.430772020243554\n"
     ]
    }
   ],
   "execution_count": 5
  },
  {
   "metadata": {},
   "cell_type": "markdown",
   "source": [
    "### It's not as bad as it looks!!\n",
    "\n",
    "true the accuracies are low, but the mae is almost within a touchdown, and predicting from only first half stats. I think that is really cool by itself."
   ],
   "id": "38ea4a265e58267e"
  },
  {
   "metadata": {},
   "cell_type": "markdown",
   "source": "### adding third quarter",
   "id": "a81d007c697e15b4"
  },
  {
   "metadata": {
    "ExecuteTime": {
     "end_time": "2024-11-19T04:18:53.270446Z",
     "start_time": "2024-11-19T04:18:38.131391Z"
    }
   },
   "cell_type": "code",
   "source": [
    "# Select columns that end with 'q1' or 'q2' or q3\n",
    "not_q4_columns = games_df.filter(regex='q[123]$')\n",
    "X_train, X_test, y_train, y_test = train_test_split(not_q4_columns, y, test_size=0.2, random_state=42)\n",
    "fit_and_score()"
   ],
   "id": "4a83ef7584283c0",
   "outputs": [
    {
     "name": "stdout",
     "output_type": "stream",
     "text": [
      "train score: 0.9233325856116259\n",
      "train mae: 2.1450026743585227\n",
      "test score: 0.025484062076488012\n",
      "test mae: 8.203173711777039\n"
     ]
    }
   ],
   "execution_count": 6
  },
  {
   "metadata": {},
   "cell_type": "markdown",
   "source": "### we acheived overfit ",
   "id": "6d4c04d494219f9a"
  },
  {
   "metadata": {},
   "cell_type": "markdown",
   "source": [
    "### Trying to fix overfitting with some grid search (thanks copiilot)\n",
    "#### I'll try with first half stats again"
   ],
   "id": "45941251ac99b8ed"
  },
  {
   "metadata": {
    "ExecuteTime": {
     "end_time": "2024-11-19T04:20:22.262245Z",
     "start_time": "2024-11-19T04:18:53.272449Z"
    }
   },
   "cell_type": "code",
   "source": [
    "from sklearn.model_selection import train_test_split, GridSearchCV\n",
    "from sklearn.neural_network import MLPRegressor\n",
    "from sklearn.metrics import mean_absolute_error\n",
    "from sklearn.pipeline import Pipeline\n",
    "from sklearn.preprocessing import StandardScaler\n",
    "\n",
    "# Split the data\n",
    "X_train, X_test, y_train, y_test = train_test_split(q1_q2_columns, y, test_size=0.2, random_state=42)\n",
    "\n",
    "def grid_search():\n",
    "    # Create a pipeline with scaling and MLPRegressor\n",
    "    pipeline = Pipeline([\n",
    "        ('scaler', StandardScaler()),\n",
    "        ('mlp', MLPRegressor(max_iter=5000, random_state=42, early_stopping=True))\n",
    "    ])\n",
    "    \n",
    "    # Define the parameter grid for GridSearchCV\n",
    "    param_grid = {\n",
    "        'mlp__hidden_layer_sizes': [(50, 50), (100, 100), (100, 50, 100)],\n",
    "        'mlp__alpha': [0.0001, 0.001, 0.01],  # Regularization parameter\n",
    "    }\n",
    "    \n",
    "    # Perform GridSearchCV to find the best parameters\n",
    "    grid_searcher = GridSearchCV(pipeline, param_grid, cv=5, scoring='neg_mean_absolute_error')\n",
    "    grid_searcher.fit(X_train, y_train)\n",
    "    \n",
    "    # Print the best parameters and the corresponding score\n",
    "    print(f\"Best parameters: {grid_searcher.best_params_}\")\n",
    "    print(f\"Best cross-validation MAE: {-grid_searcher.best_score_}\")\n",
    "    \n",
    "    # Evaluate the model on the test set\n",
    "    best_model = grid_searcher.best_estimator_\n",
    "    y_pred = best_model.predict(X_test)\n",
    "    print(f\"Test MAE: {mean_absolute_error(y_test, y_pred)}\")\n",
    "grid_search()"
   ],
   "id": "22c4767cfc92b46c",
   "outputs": [
    {
     "name": "stdout",
     "output_type": "stream",
     "text": [
      "Best parameters: {'mlp__alpha': 0.01, 'mlp__hidden_layer_sizes': (100, 100)}\n",
      "Best cross-validation MAE: 7.122288475116731\n",
      "Test MAE: 7.139627512700424\n"
     ]
    }
   ],
   "execution_count": 7
  },
  {
   "metadata": {},
   "cell_type": "markdown",
   "source": [
    "### slight improvement :/\n",
    "### I'll try with first three quarters"
   ],
   "id": "83562616792e6024"
  },
  {
   "metadata": {
    "ExecuteTime": {
     "end_time": "2024-11-19T04:21:38.491358Z",
     "start_time": "2024-11-19T04:20:22.265246Z"
    }
   },
   "cell_type": "code",
   "source": [
    "X_train, X_test, y_train, y_test = train_test_split(not_q4_columns, y, test_size=0.2, random_state=42)\n",
    "grid_search()"
   ],
   "id": "d92832b9ab968031",
   "outputs": [
    {
     "name": "stdout",
     "output_type": "stream",
     "text": [
      "Best parameters: {'mlp__alpha': 0.01, 'mlp__hidden_layer_sizes': (100, 50, 100)}\n",
      "Best cross-validation MAE: 6.425600415453528\n",
      "Test MAE: 6.497690201117577\n"
     ]
    }
   ],
   "execution_count": 8
  },
  {
   "metadata": {},
   "cell_type": "markdown",
   "source": "### within +-7 points without any fourth quarter stats, honestly somewhat practical, however wouldn't say much in a close game. On the other hand professional sports analytics can't say much on a close game either, just look at the win prediction graphs for an average football game",
   "id": "9fccefdab103a0d3"
  }
 ],
 "metadata": {
  "kernelspec": {
   "display_name": "Python 3",
   "language": "python",
   "name": "python3"
  },
  "language_info": {
   "codemirror_mode": {
    "name": "ipython",
    "version": 2
   },
   "file_extension": ".py",
   "mimetype": "text/x-python",
   "name": "python",
   "nbconvert_exporter": "python",
   "pygments_lexer": "ipython2",
   "version": "2.7.6"
  }
 },
 "nbformat": 4,
 "nbformat_minor": 5
}
