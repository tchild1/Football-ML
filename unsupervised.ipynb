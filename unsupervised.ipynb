{
 "cells": [
  {
   "cell_type": "markdown",
   "metadata": {},
   "source": [
    "# Unsupervised"
   ]
  },
  {
   "cell_type": "code",
   "execution_count": 1,
   "metadata": {},
   "outputs": [],
   "source": [
    "import pandas as pd\n",
    "from sklearn.model_selection import train_test_split\n",
    "from sklearn.metrics import mean_absolute_error\n",
    "from sklearn.cluster import AgglomerativeClustering, KMeans\n",
    "from yellowbrick.cluster import SilhouetteVisualizer\n",
    "from sklearn.metrics import silhouette_score\n",
    "import numpy as np\n",
    "import pandas as pd"
   ]
  },
  {
   "cell_type": "markdown",
   "metadata": {},
   "source": [
    "## K Means"
   ]
  },
  {
   "cell_type": "code",
   "execution_count": null,
   "metadata": {},
   "outputs": [],
   "source": [
    "import pandas as pd\n",
    "\n",
    "# gather data and split into 4 data after each of 4 quarters\n",
    "df = pd.read_csv('compiledData/cleanedCompiledData.csv')\n",
    "y = df['points']\n",
    "X_q1 = df.filter(regex='q1$')\n",
    "X_q1_q2 = df.filter(regex='q[12]$')\n",
    "X_q1_q2_q3 = df.filter(regex='q[123]$')\n",
    "X_q1_q2_q3_q4 = df.filter(regex='q[1234]$')\n",
    "\n",
    "# train/test split all of this data\n",
    "X_q1_train, X_q1_test, y_q1_train, y_q1_test = train_test_split(X_q1, y, test_size=0.2, shuffle=True)\n",
    "X_q1_q2_train, X_q1_q2_test, y_q1_q2_train, y_q1_q2_test = train_test_split(X_q1_q2, y, test_size=0.2, shuffle=True)\n",
    "X_q1_q2_q3_train, X_q1_q2_q3_test, y_q1_q2_q3_train, y_q1_q2_q3_test = train_test_split(X_q1_q2_q3, y, test_size=0.2, shuffle=True)\n",
    "X_q1_q2_q3_q4_train, X_q1_q2_q3_q4_test, y_q1_q2_q3_q4_train, y_q1_q2_q3_q4_test = train_test_split(X_q1_q2_q3_q4, y, test_size=0.2, shuffle=True)"
   ]
  },
  {
   "cell_type": "markdown",
   "metadata": {},
   "source": [
    "Experiments:  \n",
    "\n",
    "- n clusters\n",
    "- init\n",
    "- n init"
   ]
  },
  {
   "cell_type": "markdown",
   "metadata": {},
   "source": [
    "## HAC"
   ]
  },
  {
   "cell_type": "code",
   "execution_count": 8,
   "metadata": {},
   "outputs": [],
   "source": [
    "import pandas as pd\n",
    "\n",
    "# gather data and split into 4 data after each of 4 quarters\n",
    "df = pd.read_csv('compiledData/cleanedCompiledData.csv')\n",
    "y = df['points']\n",
    "X_q1 = df.filter(regex='q1$')\n",
    "X_q1_q2 = df.filter(regex='q[12]$')\n",
    "X_q1_q2_q3 = df.filter(regex='q[123]$')\n",
    "X_q1_q2_q3_q4 = df.filter(regex='q[1234]$')\n",
    "\n",
    "# train/test split all of this data\n",
    "X_q1_train, X_q1_test, y_q1_train, y_q1_test = train_test_split(X_q1, y, test_size=0.2, shuffle=True)\n",
    "X_q1_q2_train, X_q1_q2_test, y_q1_q2_train, y_q1_q2_test = train_test_split(X_q1_q2, y, test_size=0.2, shuffle=True)\n",
    "X_q1_q2_q3_train, X_q1_q2_q3_test, y_q1_q2_q3_train, y_q1_q2_q3_test = train_test_split(X_q1_q2_q3, y, test_size=0.2, shuffle=True)\n",
    "X_q1_q2_q3_q4_train, X_q1_q2_q3_q4_test, y_q1_q2_q3_q4_train, y_q1_q2_q3_q4_test = train_test_split(X_q1_q2_q3_q4, y, test_size=0.2, shuffle=True)"
   ]
  },
  {
   "cell_type": "markdown",
   "metadata": {},
   "source": [
    "Experiments:  \n",
    "\n",
    "- linkage\n",
    "- n clusters"
   ]
  }
 ],
 "metadata": {
  "kernelspec": {
   "display_name": "Python 3",
   "language": "python",
   "name": "python3"
  },
  "language_info": {
   "codemirror_mode": {
    "name": "ipython",
    "version": 3
   },
   "file_extension": ".py",
   "mimetype": "text/x-python",
   "name": "python",
   "nbconvert_exporter": "python",
   "pygments_lexer": "ipython3",
   "version": "3.12.6"
  }
 },
 "nbformat": 4,
 "nbformat_minor": 2
}
