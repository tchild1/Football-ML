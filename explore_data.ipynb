{
 "cells": [
  {
   "cell_type": "code",
   "execution_count": 1,
   "metadata": {},
   "outputs": [],
   "source": [
    "import pandas as pd"
   ]
  },
  {
   "cell_type": "code",
   "execution_count": 24,
   "metadata": {},
   "outputs": [],
   "source": [
    "games_df = pd.read_csv('compiledData/cleanedCompiledData.csv')"
   ]
  },
  {
   "cell_type": "code",
   "execution_count": 25,
   "metadata": {},
   "outputs": [
    {
     "name": "stdout",
     "output_type": "stream",
     "text": [
      "Game with the most passes attempted:\n",
      "         game_id  total_passes_attempted\n",
      "3352  2019092909                      75\n",
      "ID of game with most passes attempted:  2019092909\n"
     ]
    }
   ],
   "source": [
    "# find the game with the most passes attempted by summing the passes attempted in each quarter\n",
    "games_df['total_passes_attempted'] = games_df['num_of_passes_attempted_q1'] + games_df['num_of_passes_attempted_q2'] + games_df['num_of_passes_attempted_q3'] + games_df['num_of_passes_attempted_q4']\n",
    "max_passes_attempted = games_df['total_passes_attempted'].max()\n",
    "game_with_most_passes_attempted = games_df[games_df['total_passes_attempted'] == max_passes_attempted]\n",
    "print('Game with the most passes attempted:')\n",
    "print(game_with_most_passes_attempted[['game_id', 'total_passes_attempted']])\n",
    "print(\"ID of game with most passes attempted: \", game_with_most_passes_attempted['game_id'].values[0])"
   ]
  },
  {
   "cell_type": "code",
   "execution_count": null,
   "metadata": {},
   "outputs": [],
   "source": []
  }
 ],
 "metadata": {
  "kernelspec": {
   "display_name": "ml",
   "language": "python",
   "name": "python3"
  },
  "language_info": {
   "codemirror_mode": {
    "name": "ipython",
    "version": 3
   },
   "file_extension": ".py",
   "mimetype": "text/x-python",
   "name": "python",
   "nbconvert_exporter": "python",
   "pygments_lexer": "ipython3",
   "version": "3.12.6"
  }
 },
 "nbformat": 4,
 "nbformat_minor": 2
}
